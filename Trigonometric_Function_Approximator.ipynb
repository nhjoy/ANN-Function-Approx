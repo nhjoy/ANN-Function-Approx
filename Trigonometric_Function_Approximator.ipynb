{
  "nbformat": 4,
  "nbformat_minor": 0,
  "metadata": {
    "colab": {
      "name": "Trigonometric Function Approximator.ipynb",
      "provenance": [],
      "authorship_tag": "ABX9TyOYHgL3jUZpfeMtSEUQz4jC",
      "include_colab_link": true
    },
    "kernelspec": {
      "name": "python3",
      "display_name": "Python 3"
    },
    "language_info": {
      "name": "python"
    }
  },
  "cells": [
    {
      "cell_type": "markdown",
      "metadata": {
        "id": "view-in-github",
        "colab_type": "text"
      },
      "source": [
        "<a href=\"https://colab.research.google.com/github/nhjoy/ANN-Function-Approx/blob/main/Trigonometric_Function_Approximator.ipynb\" target=\"_parent\"><img src=\"https://colab.research.google.com/assets/colab-badge.svg\" alt=\"Open In Colab\"/></a>"
      ]
    },
    {
      "cell_type": "code",
      "execution_count": null,
      "metadata": {
        "id": "iFhl0HZueVVE"
      },
      "outputs": [],
      "source": [
        ""
      ]
    }
  ]
}