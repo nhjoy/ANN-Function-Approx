{
  "nbformat": 4,
  "nbformat_minor": 0,
  "metadata": {
    "colab": {
      "name": "Trigonometric Function Approximator.ipynb",
      "provenance": [],
      "collapsed_sections": [],
      "toc_visible": true
    },
    "kernelspec": {
      "name": "python3",
      "display_name": "Python 3"
    },
    "language_info": {
      "name": "python"
    }
  },
  "cells": [
    {
      "cell_type": "markdown",
      "source": [
        "# Dependencies and settings"
      ],
      "metadata": {
        "id": "g-6ZSuEjfftk"
      }
    },
    {
      "cell_type": "code",
      "execution_count": null,
      "metadata": {
        "id": "iFhl0HZueVVE"
      },
      "outputs": [],
      "source": [
        "%tensorflow_version 2.x\n",
        "\n",
        "import tensorflow as tf\n",
        "import numpy as np \n",
        "import matplotlib.pyplot as plt\n",
        "import math\n",
        "from tensorflow.keras import layers\n"
      ]
    },
    {
      "cell_type": "code",
      "source": [
        "# version check\n",
        "!python --versions\n",
        "print('Numpy ' + np.__version__)\n",
        "print('TensorFlow ' + tf.__version__)\n",
        "print('Keras ' + tf.keras.__version__)\n"
      ],
      "metadata": {
        "id": "H08c2waagEGg"
      },
      "execution_count": null,
      "outputs": []
    },
    {
      "cell_type": "code",
      "source": [
        "# trigonometric function settings\n",
        "\n",
        "sample_num = 1000 # number of sample\n",
        "val_set = 0.2 # 20% of total sample as validation set\n",
        "test_set = 0.2 # 20% of total sample as test set\n",
        "tf_model_name = 'sinosoidal'\n"
      ],
      "metadata": {
        "id": "hVBY1rhtgJJ5"
      },
      "execution_count": null,
      "outputs": []
    }
  ]
}